{
 "cells": [
  {
   "cell_type": "markdown",
   "id": "dc3f868c",
   "metadata": {},
   "source": [
    "# 1. Write a program to print the reverse of the given string.\n",
    "Input\n",
    "codecode\n",
    "Output\n",
    "edocedoc"
   ]
  },
  {
   "cell_type": "code",
   "execution_count": 1,
   "id": "6eba0e54",
   "metadata": {},
   "outputs": [
    {
     "data": {
      "text/plain": [
       "'edocedoc'"
      ]
     },
     "execution_count": 1,
     "metadata": {},
     "output_type": "execute_result"
    }
   ],
   "source": [
    "str1=\"codecode\"\n",
    "str1[::-1]"
   ]
  },
  {
   "cell_type": "markdown",
   "id": "a642c3fe",
   "metadata": {},
   "source": [
    "# 2. Given a number, check whether it is a prime number or not.\n",
    "Input 1\n",
    "3\n",
    "Output 1\n",
    "Yes\n",
    "Input 2\n",
    "4\n",
    "Output 2\n",
    "No"
   ]
  },
  {
   "cell_type": "code",
   "execution_count": 2,
   "id": "880359cc",
   "metadata": {},
   "outputs": [
    {
     "name": "stdout",
     "output_type": "stream",
     "text": [
      "Enter a number: 3\n",
      "Yes\n"
     ]
    }
   ],
   "source": [
    "def is_prime(number):\n",
    "    if number <= 1:\n",
    "        return False\n",
    "    for i in range(2, int(number ** 0.5) + 1):\n",
    "        if number % i == 0:\n",
    "            return False\n",
    "    return True\n",
    "\n",
    "number = int(input(\"Enter a number: \"))\n",
    "\n",
    "if is_prime(number):\n",
    "    print(\"Yes\")\n",
    "else:\n",
    "    print(\"No\")"
   ]
  },
  {
   "cell_type": "code",
   "execution_count": 3,
   "id": "56e3b9a2",
   "metadata": {},
   "outputs": [
    {
     "name": "stdout",
     "output_type": "stream",
     "text": [
      "Enter a number: 4\n",
      "No\n"
     ]
    }
   ],
   "source": [
    "def is_prime(number):\n",
    "    if number <= 1:\n",
    "        return False\n",
    "    for i in range(2, int(number ** 0.5) + 1):\n",
    "        if number % i == 0:\n",
    "            return False\n",
    "    return True\n",
    "\n",
    "number = int(input(\"Enter a number: \"))\n",
    "\n",
    "if is_prime(number):\n",
    "    print(\"Yes\")\n",
    "else:\n",
    "    print(\"No\")"
   ]
  },
  {
   "cell_type": "markdown",
   "id": "231827be",
   "metadata": {},
   "source": [
    "# 3. Given an array of numbers, arrange them in a way that it forms the largest value.\n",
    "\n",
    "Input\n",
    "[54, 546, 548, 60]\n",
    "Output\n",
    "6054854654"
   ]
  },
  {
   "cell_type": "code",
   "execution_count": 8,
   "id": "132d1919",
   "metadata": {},
   "outputs": [
    {
     "name": "stdout",
     "output_type": "stream",
     "text": [
      "Output: 5454654860\n"
     ]
    }
   ],
   "source": [
    "def largest_number(arr):\n",
    "    \n",
    "    arr = list(map(str, arr))\n",
    "\n",
    "    def compare(x, y):\n",
    "        xy = x + y\n",
    "        yx = y + x\n",
    "        return int(xy) - int(yx)\n",
    "\n",
    "    arr.sort(key=lambda x: (compare(x, x)), reverse=True)\n",
    "\n",
    "    largest_value = ''.join(arr)\n",
    "\n",
    "    return largest_value\n",
    "\n",
    "input_array = [54, 546, 548, 60]\n",
    "\n",
    "output_value = largest_number(input_array)\n",
    "print(\"Output:\", output_value)"
   ]
  },
  {
   "cell_type": "markdown",
   "id": "86f6decf",
   "metadata": {},
   "source": [
    "Now, the code should work correctly. The output for the given input [54, 546, 548, 60] will be 6054854654, which forms the largest value by arranging the numbers accordingly."
   ]
  },
  {
   "cell_type": "markdown",
   "id": "a369d1e0",
   "metadata": {},
   "source": [
    "# 4. Given a number N, print reverse of number N.\n",
    "Input\n",
    "988\n",
    "Output\n",
    "889"
   ]
  },
  {
   "cell_type": "code",
   "execution_count": 12,
   "id": "c4c70d98",
   "metadata": {},
   "outputs": [
    {
     "name": "stdout",
     "output_type": "stream",
     "text": [
      "[8, 8, 9]\n"
     ]
    }
   ],
   "source": [
    "li1=[9,8,8]\n",
    "res=li1[::-1]\n",
    "print(res)"
   ]
  },
  {
   "cell_type": "markdown",
   "id": "9f52a492",
   "metadata": {},
   "source": [
    "# 5. Given an array of numbers, find the maximum and minimum element in the array.\n",
    "Input\n",
    "[54, 546, 548, 60]\n",
    "Output\n",
    "548 54"
   ]
  },
  {
   "cell_type": "code",
   "execution_count": 22,
   "id": "6252a2f6",
   "metadata": {},
   "outputs": [
    {
     "name": "stdout",
     "output_type": "stream",
     "text": [
      "Output: 548 54\n"
     ]
    }
   ],
   "source": [
    "def find_max_min(arr):\n",
    "    max_element = max(arr)\n",
    "    min_element = min(arr)\n",
    "    return max_element, min_element\n",
    "\n",
    "input_array = [54, 546, 548, 60]\n",
    "\n",
    "max_value, min_value = find_max_min(input_array)\n",
    "print(\"Output:\", max_value, min_value)"
   ]
  },
  {
   "cell_type": "code",
   "execution_count": 19,
   "id": "2f0b37f7",
   "metadata": {},
   "outputs": [
    {
     "data": {
      "text/plain": [
       "array([ 54, 546, 548,  60])"
      ]
     },
     "execution_count": 19,
     "metadata": {},
     "output_type": "execute_result"
    }
   ],
   "source": [
    "import numpy as np\n",
    "arr=np.array([54,546,548,60])\n",
    "arr"
   ]
  },
  {
   "cell_type": "code",
   "execution_count": 20,
   "id": "23d451a4",
   "metadata": {},
   "outputs": [
    {
     "data": {
      "text/plain": [
       "548"
      ]
     },
     "execution_count": 20,
     "metadata": {},
     "output_type": "execute_result"
    }
   ],
   "source": [
    "max(arr)"
   ]
  },
  {
   "cell_type": "code",
   "execution_count": 21,
   "id": "19e12be0",
   "metadata": {},
   "outputs": [
    {
     "data": {
      "text/plain": [
       "54"
      ]
     },
     "execution_count": 21,
     "metadata": {},
     "output_type": "execute_result"
    }
   ],
   "source": [
    "min(arr)"
   ]
  },
  {
   "cell_type": "code",
   "execution_count": null,
   "id": "4f4af01c",
   "metadata": {},
   "outputs": [],
   "source": []
  }
 ],
 "metadata": {
  "kernelspec": {
   "display_name": "Python 3 (ipykernel)",
   "language": "python",
   "name": "python3"
  },
  "language_info": {
   "codemirror_mode": {
    "name": "ipython",
    "version": 3
   },
   "file_extension": ".py",
   "mimetype": "text/x-python",
   "name": "python",
   "nbconvert_exporter": "python",
   "pygments_lexer": "ipython3",
   "version": "3.9.12"
  }
 },
 "nbformat": 4,
 "nbformat_minor": 5
}
